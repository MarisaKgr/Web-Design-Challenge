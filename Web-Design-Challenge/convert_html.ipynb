{
 "cells": [
  {
   "cell_type": "code",
   "execution_count": 1,
   "id": "bc42f9e6",
   "metadata": {},
   "outputs": [],
   "source": [
    "import pandas"
   ]
  },
  {
   "cell_type": "code",
   "execution_count": 3,
   "id": "e24d56c3",
   "metadata": {},
   "outputs": [],
   "source": [
    "file=pandas.read_csv(\"Resources/cities.csv\")"
   ]
  },
  {
   "cell_type": "code",
   "execution_count": 4,
   "id": "0bde4b16",
   "metadata": {},
   "outputs": [],
   "source": [
    "file.to_html(\"cities.html\")"
   ]
  },
  {
   "cell_type": "code",
   "execution_count": 5,
   "id": "2eec76b4",
   "metadata": {},
   "outputs": [],
   "source": [
    "#making a prettytable for comparison\n",
    "from prettytable import PrettyTable\n",
    "file = open(\"Resources/cities.csv\", \"r\")\n",
    "file = file.readlines() \n",
    "head = file[0] \n",
    "head = head.split(',')\n",
    "#for headings\n",
    "table = PrettyTable([head[0], head[1],head[2],head[3],head[4],head[5],head[6],head[7],head[8],head[9]]) \n",
    "for i in range(1, len(file)) : \n",
    "    table.add_row(file[i].split(','))\n",
    "htmlCode = table.get_html_string() \n",
    "final_htmlFile = open('cities2.html', 'w') \n",
    "final_htmlFile=final_htmlFile.write(htmlCode)"
   ]
  }
 ],
 "metadata": {
  "kernelspec": {
   "display_name": "Python [conda env:root] *",
   "language": "python",
   "name": "conda-root-py"
  },
  "language_info": {
   "codemirror_mode": {
    "name": "ipython",
    "version": 3
   },
   "file_extension": ".py",
   "mimetype": "text/x-python",
   "name": "python",
   "nbconvert_exporter": "python",
   "pygments_lexer": "ipython3",
   "version": "3.8.8"
  }
 },
 "nbformat": 4,
 "nbformat_minor": 5
}
